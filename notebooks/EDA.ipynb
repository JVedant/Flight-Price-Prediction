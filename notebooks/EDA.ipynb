{
 "metadata": {
  "language_info": {
   "codemirror_mode": {
    "name": "ipython",
    "version": 3
   },
   "file_extension": ".py",
   "mimetype": "text/x-python",
   "name": "python",
   "nbconvert_exporter": "python",
   "pygments_lexer": "ipython3",
   "version": "3.7.7-final"
  },
  "orig_nbformat": 2,
  "kernelspec": {
   "name": "Python 3.7.7 64-bit ('anaconda3': conda)",
   "display_name": "Python 3.7.7 64-bit ('anaconda3': conda)",
   "metadata": {
    "interpreter": {
     "hash": "6c03733f887ef21fbe0f240902c4a619cd92f5ab72ba254b59a7f0b51984db09"
    }
   }
  }
 },
 "nbformat": 4,
 "nbformat_minor": 2,
 "cells": [
  {
   "cell_type": "code",
   "execution_count": 109,
   "metadata": {},
   "outputs": [],
   "source": [
    "import numpy as np\n",
    "import pandas as pd\n",
    "\n",
    "import seaborn as sns\n",
    "import matplotlib.pyplot as plt"
   ]
  },
  {
   "cell_type": "code",
   "execution_count": 110,
   "metadata": {},
   "outputs": [],
   "source": [
    "dataset = pd.read_csv('../input/Flight_Data.csv')"
   ]
  },
  {
   "cell_type": "code",
   "execution_count": 111,
   "metadata": {},
   "outputs": [
    {
     "output_type": "execute_result",
     "data": {
      "text/plain": "       Airline Date_of_Journey    Source Destination                  Route  \\\n0       IndiGo      24/03/2019  Banglore   New Delhi              BLR → DEL   \n1    Air India       1/05/2019   Kolkata    Banglore  CCU → IXR → BBI → BLR   \n2  Jet Airways       9/06/2019     Delhi      Cochin  DEL → LKO → BOM → COK   \n3       IndiGo      12/05/2019   Kolkata    Banglore        CCU → NAG → BLR   \n4       IndiGo      01/03/2019  Banglore   New Delhi        BLR → NAG → DEL   \n\n  Dep_Time  Arrival_Time Duration Total_Stops Additional_Info  Price  \n0    22:20  01:10 22 Mar   2h 50m    non-stop         No info   3897  \n1    05:50         13:15   7h 25m     2 stops         No info   7662  \n2    09:25  04:25 10 Jun      19h     2 stops         No info  13882  \n3    18:05         23:30   5h 25m      1 stop         No info   6218  \n4    16:50         21:35   4h 45m      1 stop         No info  13302  ",
      "text/html": "<div>\n<style scoped>\n    .dataframe tbody tr th:only-of-type {\n        vertical-align: middle;\n    }\n\n    .dataframe tbody tr th {\n        vertical-align: top;\n    }\n\n    .dataframe thead th {\n        text-align: right;\n    }\n</style>\n<table border=\"1\" class=\"dataframe\">\n  <thead>\n    <tr style=\"text-align: right;\">\n      <th></th>\n      <th>Airline</th>\n      <th>Date_of_Journey</th>\n      <th>Source</th>\n      <th>Destination</th>\n      <th>Route</th>\n      <th>Dep_Time</th>\n      <th>Arrival_Time</th>\n      <th>Duration</th>\n      <th>Total_Stops</th>\n      <th>Additional_Info</th>\n      <th>Price</th>\n    </tr>\n  </thead>\n  <tbody>\n    <tr>\n      <th>0</th>\n      <td>IndiGo</td>\n      <td>24/03/2019</td>\n      <td>Banglore</td>\n      <td>New Delhi</td>\n      <td>BLR → DEL</td>\n      <td>22:20</td>\n      <td>01:10 22 Mar</td>\n      <td>2h 50m</td>\n      <td>non-stop</td>\n      <td>No info</td>\n      <td>3897</td>\n    </tr>\n    <tr>\n      <th>1</th>\n      <td>Air India</td>\n      <td>1/05/2019</td>\n      <td>Kolkata</td>\n      <td>Banglore</td>\n      <td>CCU → IXR → BBI → BLR</td>\n      <td>05:50</td>\n      <td>13:15</td>\n      <td>7h 25m</td>\n      <td>2 stops</td>\n      <td>No info</td>\n      <td>7662</td>\n    </tr>\n    <tr>\n      <th>2</th>\n      <td>Jet Airways</td>\n      <td>9/06/2019</td>\n      <td>Delhi</td>\n      <td>Cochin</td>\n      <td>DEL → LKO → BOM → COK</td>\n      <td>09:25</td>\n      <td>04:25 10 Jun</td>\n      <td>19h</td>\n      <td>2 stops</td>\n      <td>No info</td>\n      <td>13882</td>\n    </tr>\n    <tr>\n      <th>3</th>\n      <td>IndiGo</td>\n      <td>12/05/2019</td>\n      <td>Kolkata</td>\n      <td>Banglore</td>\n      <td>CCU → NAG → BLR</td>\n      <td>18:05</td>\n      <td>23:30</td>\n      <td>5h 25m</td>\n      <td>1 stop</td>\n      <td>No info</td>\n      <td>6218</td>\n    </tr>\n    <tr>\n      <th>4</th>\n      <td>IndiGo</td>\n      <td>01/03/2019</td>\n      <td>Banglore</td>\n      <td>New Delhi</td>\n      <td>BLR → NAG → DEL</td>\n      <td>16:50</td>\n      <td>21:35</td>\n      <td>4h 45m</td>\n      <td>1 stop</td>\n      <td>No info</td>\n      <td>13302</td>\n    </tr>\n  </tbody>\n</table>\n</div>"
     },
     "metadata": {},
     "execution_count": 111
    }
   ],
   "source": [
    "dataset.head()"
   ]
  },
  {
   "cell_type": "code",
   "execution_count": 112,
   "metadata": {},
   "outputs": [
    {
     "output_type": "execute_result",
     "data": {
      "text/plain": "array([&#39;IndiGo&#39;, &#39;Air India&#39;, &#39;Jet Airways&#39;, &#39;SpiceJet&#39;,\n       &#39;Multiple carriers&#39;, &#39;GoAir&#39;, &#39;Vistara&#39;, &#39;Air Asia&#39;,\n       &#39;Vistara Premium economy&#39;, &#39;Jet Airways Business&#39;,\n       &#39;Multiple carriers Premium economy&#39;, &#39;Trujet&#39;], dtype=object)"
     },
     "metadata": {},
     "execution_count": 112
    }
   ],
   "source": [
    "dataset.Airline.unique()"
   ]
  },
  {
   "cell_type": "code",
   "execution_count": 113,
   "metadata": {},
   "outputs": [
    {
     "output_type": "execute_result",
     "data": {
      "text/plain": "Airline            0\nDate_of_Journey    0\nSource             0\nDestination        0\nRoute              1\nDep_Time           0\nArrival_Time       0\nDuration           0\nTotal_Stops        1\nAdditional_Info    0\nPrice              0\ndtype: int64"
     },
     "metadata": {},
     "execution_count": 113
    }
   ],
   "source": [
    "dataset.isna().sum()"
   ]
  },
  {
   "cell_type": "code",
   "execution_count": 114,
   "metadata": {},
   "outputs": [
    {
     "output_type": "execute_result",
     "data": {
      "text/plain": "        Airline Date_of_Journey Source Destination Route Dep_Time  \\\n9039  Air India       6/05/2019  Delhi      Cochin   NaN    09:45   \n\n      Arrival_Time Duration Total_Stops Additional_Info  Price  \n9039  09:25 07 May  23h 40m         NaN         No info   7480  ",
      "text/html": "<div>\n<style scoped>\n    .dataframe tbody tr th:only-of-type {\n        vertical-align: middle;\n    }\n\n    .dataframe tbody tr th {\n        vertical-align: top;\n    }\n\n    .dataframe thead th {\n        text-align: right;\n    }\n</style>\n<table border=\"1\" class=\"dataframe\">\n  <thead>\n    <tr style=\"text-align: right;\">\n      <th></th>\n      <th>Airline</th>\n      <th>Date_of_Journey</th>\n      <th>Source</th>\n      <th>Destination</th>\n      <th>Route</th>\n      <th>Dep_Time</th>\n      <th>Arrival_Time</th>\n      <th>Duration</th>\n      <th>Total_Stops</th>\n      <th>Additional_Info</th>\n      <th>Price</th>\n    </tr>\n  </thead>\n  <tbody>\n    <tr>\n      <th>9039</th>\n      <td>Air India</td>\n      <td>6/05/2019</td>\n      <td>Delhi</td>\n      <td>Cochin</td>\n      <td>NaN</td>\n      <td>09:45</td>\n      <td>09:25 07 May</td>\n      <td>23h 40m</td>\n      <td>NaN</td>\n      <td>No info</td>\n      <td>7480</td>\n    </tr>\n  </tbody>\n</table>\n</div>"
     },
     "metadata": {},
     "execution_count": 114
    }
   ],
   "source": [
    "dataset[dataset.Route.isna()]"
   ]
  },
  {
   "source": [
    "### As we can see, there is a single row with both Route and Total_Stops as null. \n",
    "so we can drop it."
   ],
   "cell_type": "markdown",
   "metadata": {}
  },
  {
   "cell_type": "code",
   "execution_count": 115,
   "metadata": {},
   "outputs": [],
   "source": [
    "dataset.dropna(inplace=True)"
   ]
  },
  {
   "cell_type": "code",
   "execution_count": 116,
   "metadata": {},
   "outputs": [
    {
     "output_type": "execute_result",
     "data": {
      "text/plain": "Airline            0\nDate_of_Journey    0\nSource             0\nDestination        0\nRoute              0\nDep_Time           0\nArrival_Time       0\nDuration           0\nTotal_Stops        0\nAdditional_Info    0\nPrice              0\ndtype: int64"
     },
     "metadata": {},
     "execution_count": 116
    }
   ],
   "source": [
    "dataset.isna().sum()"
   ]
  },
  {
   "cell_type": "code",
   "execution_count": 117,
   "metadata": {},
   "outputs": [],
   "source": [
    "# Converting all the date and time data to numbers\n",
    "\n",
    "dataset[\"Journey_day\"] = pd.to_datetime(dataset.Date_of_Journey, format=\"%d/%m/%Y\").dt.day\n",
    "dataset[\"Journey_month\"] = pd.to_datetime(dataset[\"Date_of_Journey\"], format = \"%d/%m/%Y\").dt.month\n",
    "dataset.drop('Date_of_Journey', 1, inplace=True)\n",
    "\n",
    "\n",
    "dataset[\"Dep_hour\"] = pd.to_datetime(dataset[\"Dep_Time\"]).dt.hour\n",
    "dataset[\"Dep_min\"] = pd.to_datetime(dataset[\"Dep_Time\"]).dt.minute\n",
    "dataset.drop([\"Dep_Time\"], axis = 1, inplace = True)\n",
    "\n",
    "\n",
    "dataset[\"Arr_hour\"] = pd.to_datetime(dataset[\"Arrival_Time\"]).dt.hour\n",
    "dataset[\"Arr_min\"] = pd.to_datetime(dataset[\"Arrival_Time\"]).dt.minute\n",
    "dataset.drop([\"Arrival_Time\"], axis = 1, inplace = True)"
   ]
  },
  {
   "cell_type": "code",
   "execution_count": 118,
   "metadata": {},
   "outputs": [
    {
     "output_type": "execute_result",
     "data": {
      "text/plain": "                 Airline    Source Destination                  Route  \\\n0                 IndiGo  Banglore   New Delhi              BLR → DEL   \n1              Air India   Kolkata    Banglore  CCU → IXR → BBI → BLR   \n2            Jet Airways     Delhi      Cochin  DEL → LKO → BOM → COK   \n3                 IndiGo   Kolkata    Banglore        CCU → NAG → BLR   \n4                 IndiGo  Banglore   New Delhi        BLR → NAG → DEL   \n...                  ...       ...         ...                    ...   \n13349          Air India   Kolkata    Banglore        CCU → DEL → BLR   \n13350             IndiGo   Kolkata    Banglore              CCU → BLR   \n13351        Jet Airways     Delhi      Cochin        DEL → BOM → COK   \n13352          Air India     Delhi      Cochin        DEL → BOM → COK   \n13353  Multiple carriers     Delhi      Cochin        DEL → BOM → COK   \n\n      Duration Total_Stops Additional_Info  Price  Journey_day  Journey_month  \\\n0       2h 50m    non-stop         No info   3897           24              3   \n1       7h 25m     2 stops         No info   7662            1              5   \n2          19h     2 stops         No info  13882            9              6   \n3       5h 25m      1 stop         No info   6218           12              5   \n4       4h 45m      1 stop         No info  13302            1              3   \n...        ...         ...             ...    ...          ...            ...   \n13349  23h 55m      1 stop         No info  14046            6              6   \n13350   2h 35m    non-stop         No info  14086           27              3   \n13351   6h 35m      1 stop         No info  22720            6              3   \n13352  15h 15m      1 stop         No info  23544            6              3   \n13353  14h 20m      1 stop         No info  27489           15              6   \n\n       Dep_hour  Dep_min  Arr_hour  Arr_min  \n0            22       20         1       10  \n1             5       50        13       15  \n2             9       25         4       25  \n3            18        5        23       30  \n4            16       50        21       35  \n...         ...      ...       ...      ...  \n13349        20       30        20       25  \n13350        14       20        16       55  \n13351        21       50         4       25  \n13352         4        0        19       15  \n13353         4       55        19       15  \n\n[13353 rows x 14 columns]",
      "text/html": "<div>\n<style scoped>\n    .dataframe tbody tr th:only-of-type {\n        vertical-align: middle;\n    }\n\n    .dataframe tbody tr th {\n        vertical-align: top;\n    }\n\n    .dataframe thead th {\n        text-align: right;\n    }\n</style>\n<table border=\"1\" class=\"dataframe\">\n  <thead>\n    <tr style=\"text-align: right;\">\n      <th></th>\n      <th>Airline</th>\n      <th>Source</th>\n      <th>Destination</th>\n      <th>Route</th>\n      <th>Duration</th>\n      <th>Total_Stops</th>\n      <th>Additional_Info</th>\n      <th>Price</th>\n      <th>Journey_day</th>\n      <th>Journey_month</th>\n      <th>Dep_hour</th>\n      <th>Dep_min</th>\n      <th>Arr_hour</th>\n      <th>Arr_min</th>\n    </tr>\n  </thead>\n  <tbody>\n    <tr>\n      <th>0</th>\n      <td>IndiGo</td>\n      <td>Banglore</td>\n      <td>New Delhi</td>\n      <td>BLR → DEL</td>\n      <td>2h 50m</td>\n      <td>non-stop</td>\n      <td>No info</td>\n      <td>3897</td>\n      <td>24</td>\n      <td>3</td>\n      <td>22</td>\n      <td>20</td>\n      <td>1</td>\n      <td>10</td>\n    </tr>\n    <tr>\n      <th>1</th>\n      <td>Air India</td>\n      <td>Kolkata</td>\n      <td>Banglore</td>\n      <td>CCU → IXR → BBI → BLR</td>\n      <td>7h 25m</td>\n      <td>2 stops</td>\n      <td>No info</td>\n      <td>7662</td>\n      <td>1</td>\n      <td>5</td>\n      <td>5</td>\n      <td>50</td>\n      <td>13</td>\n      <td>15</td>\n    </tr>\n    <tr>\n      <th>2</th>\n      <td>Jet Airways</td>\n      <td>Delhi</td>\n      <td>Cochin</td>\n      <td>DEL → LKO → BOM → COK</td>\n      <td>19h</td>\n      <td>2 stops</td>\n      <td>No info</td>\n      <td>13882</td>\n      <td>9</td>\n      <td>6</td>\n      <td>9</td>\n      <td>25</td>\n      <td>4</td>\n      <td>25</td>\n    </tr>\n    <tr>\n      <th>3</th>\n      <td>IndiGo</td>\n      <td>Kolkata</td>\n      <td>Banglore</td>\n      <td>CCU → NAG → BLR</td>\n      <td>5h 25m</td>\n      <td>1 stop</td>\n      <td>No info</td>\n      <td>6218</td>\n      <td>12</td>\n      <td>5</td>\n      <td>18</td>\n      <td>5</td>\n      <td>23</td>\n      <td>30</td>\n    </tr>\n    <tr>\n      <th>4</th>\n      <td>IndiGo</td>\n      <td>Banglore</td>\n      <td>New Delhi</td>\n      <td>BLR → NAG → DEL</td>\n      <td>4h 45m</td>\n      <td>1 stop</td>\n      <td>No info</td>\n      <td>13302</td>\n      <td>1</td>\n      <td>3</td>\n      <td>16</td>\n      <td>50</td>\n      <td>21</td>\n      <td>35</td>\n    </tr>\n    <tr>\n      <th>...</th>\n      <td>...</td>\n      <td>...</td>\n      <td>...</td>\n      <td>...</td>\n      <td>...</td>\n      <td>...</td>\n      <td>...</td>\n      <td>...</td>\n      <td>...</td>\n      <td>...</td>\n      <td>...</td>\n      <td>...</td>\n      <td>...</td>\n      <td>...</td>\n    </tr>\n    <tr>\n      <th>13349</th>\n      <td>Air India</td>\n      <td>Kolkata</td>\n      <td>Banglore</td>\n      <td>CCU → DEL → BLR</td>\n      <td>23h 55m</td>\n      <td>1 stop</td>\n      <td>No info</td>\n      <td>14046</td>\n      <td>6</td>\n      <td>6</td>\n      <td>20</td>\n      <td>30</td>\n      <td>20</td>\n      <td>25</td>\n    </tr>\n    <tr>\n      <th>13350</th>\n      <td>IndiGo</td>\n      <td>Kolkata</td>\n      <td>Banglore</td>\n      <td>CCU → BLR</td>\n      <td>2h 35m</td>\n      <td>non-stop</td>\n      <td>No info</td>\n      <td>14086</td>\n      <td>27</td>\n      <td>3</td>\n      <td>14</td>\n      <td>20</td>\n      <td>16</td>\n      <td>55</td>\n    </tr>\n    <tr>\n      <th>13351</th>\n      <td>Jet Airways</td>\n      <td>Delhi</td>\n      <td>Cochin</td>\n      <td>DEL → BOM → COK</td>\n      <td>6h 35m</td>\n      <td>1 stop</td>\n      <td>No info</td>\n      <td>22720</td>\n      <td>6</td>\n      <td>3</td>\n      <td>21</td>\n      <td>50</td>\n      <td>4</td>\n      <td>25</td>\n    </tr>\n    <tr>\n      <th>13352</th>\n      <td>Air India</td>\n      <td>Delhi</td>\n      <td>Cochin</td>\n      <td>DEL → BOM → COK</td>\n      <td>15h 15m</td>\n      <td>1 stop</td>\n      <td>No info</td>\n      <td>23544</td>\n      <td>6</td>\n      <td>3</td>\n      <td>4</td>\n      <td>0</td>\n      <td>19</td>\n      <td>15</td>\n    </tr>\n    <tr>\n      <th>13353</th>\n      <td>Multiple carriers</td>\n      <td>Delhi</td>\n      <td>Cochin</td>\n      <td>DEL → BOM → COK</td>\n      <td>14h 20m</td>\n      <td>1 stop</td>\n      <td>No info</td>\n      <td>27489</td>\n      <td>15</td>\n      <td>6</td>\n      <td>4</td>\n      <td>55</td>\n      <td>19</td>\n      <td>15</td>\n    </tr>\n  </tbody>\n</table>\n<p>13353 rows × 14 columns</p>\n</div>"
     },
     "metadata": {},
     "execution_count": 118
    }
   ],
   "source": [
    "dataset"
   ]
  },
  {
   "cell_type": "code",
   "execution_count": 119,
   "metadata": {},
   "outputs": [],
   "source": [
    "duration = list(dataset['Duration'])\n",
    "\n",
    "for i in range(len(duration)):\n",
    "    if len(duration[i].split()) != 2:\n",
    "        if \"h\" in duration[i]:\n",
    "            duration[i] = duration[i].strip() + \" 0m\"\n",
    "        else:\n",
    "            duration[i] = \"0h \" + duration[i]\n",
    "\n",
    "duration_hours = []\n",
    "duration_mins = []\n",
    "\n",
    "for i in range(len(duration)):\n",
    "    duration_hours.append(int(duration[i].split(sep = \"h\")[0])) \n",
    "    duration_mins.append(int(duration[i].split(sep = \"m\")[0].split()[-1]))"
   ]
  },
  {
   "cell_type": "code",
   "execution_count": 120,
   "metadata": {},
   "outputs": [],
   "source": [
    "dataset[\"Duration_hrs\"] = duration_hours\n",
    "dataset[\"Duration_mins\"] = duration_mins\n",
    "\n",
    "dataset.drop('Duration', 1, inplace=True)"
   ]
  },
  {
   "cell_type": "code",
   "execution_count": 121,
   "metadata": {},
   "outputs": [
    {
     "output_type": "execute_result",
     "data": {
      "text/plain": "                 Airline    Source Destination                  Route  \\\n0                 IndiGo  Banglore   New Delhi              BLR → DEL   \n1              Air India   Kolkata    Banglore  CCU → IXR → BBI → BLR   \n2            Jet Airways     Delhi      Cochin  DEL → LKO → BOM → COK   \n3                 IndiGo   Kolkata    Banglore        CCU → NAG → BLR   \n4                 IndiGo  Banglore   New Delhi        BLR → NAG → DEL   \n...                  ...       ...         ...                    ...   \n13349          Air India   Kolkata    Banglore        CCU → DEL → BLR   \n13350             IndiGo   Kolkata    Banglore              CCU → BLR   \n13351        Jet Airways     Delhi      Cochin        DEL → BOM → COK   \n13352          Air India     Delhi      Cochin        DEL → BOM → COK   \n13353  Multiple carriers     Delhi      Cochin        DEL → BOM → COK   \n\n      Total_Stops Additional_Info  Price  Journey_day  Journey_month  \\\n0        non-stop         No info   3897           24              3   \n1         2 stops         No info   7662            1              5   \n2         2 stops         No info  13882            9              6   \n3          1 stop         No info   6218           12              5   \n4          1 stop         No info  13302            1              3   \n...           ...             ...    ...          ...            ...   \n13349      1 stop         No info  14046            6              6   \n13350    non-stop         No info  14086           27              3   \n13351      1 stop         No info  22720            6              3   \n13352      1 stop         No info  23544            6              3   \n13353      1 stop         No info  27489           15              6   \n\n       Dep_hour  Dep_min  Arr_hour  Arr_min  Duration_hrs  Duration_mins  \n0            22       20         1       10             2             50  \n1             5       50        13       15             7             25  \n2             9       25         4       25            19              0  \n3            18        5        23       30             5             25  \n4            16       50        21       35             4             45  \n...         ...      ...       ...      ...           ...            ...  \n13349        20       30        20       25            23             55  \n13350        14       20        16       55             2             35  \n13351        21       50         4       25             6             35  \n13352         4        0        19       15            15             15  \n13353         4       55        19       15            14             20  \n\n[13353 rows x 15 columns]",
      "text/html": "<div>\n<style scoped>\n    .dataframe tbody tr th:only-of-type {\n        vertical-align: middle;\n    }\n\n    .dataframe tbody tr th {\n        vertical-align: top;\n    }\n\n    .dataframe thead th {\n        text-align: right;\n    }\n</style>\n<table border=\"1\" class=\"dataframe\">\n  <thead>\n    <tr style=\"text-align: right;\">\n      <th></th>\n      <th>Airline</th>\n      <th>Source</th>\n      <th>Destination</th>\n      <th>Route</th>\n      <th>Total_Stops</th>\n      <th>Additional_Info</th>\n      <th>Price</th>\n      <th>Journey_day</th>\n      <th>Journey_month</th>\n      <th>Dep_hour</th>\n      <th>Dep_min</th>\n      <th>Arr_hour</th>\n      <th>Arr_min</th>\n      <th>Duration_hrs</th>\n      <th>Duration_mins</th>\n    </tr>\n  </thead>\n  <tbody>\n    <tr>\n      <th>0</th>\n      <td>IndiGo</td>\n      <td>Banglore</td>\n      <td>New Delhi</td>\n      <td>BLR → DEL</td>\n      <td>non-stop</td>\n      <td>No info</td>\n      <td>3897</td>\n      <td>24</td>\n      <td>3</td>\n      <td>22</td>\n      <td>20</td>\n      <td>1</td>\n      <td>10</td>\n      <td>2</td>\n      <td>50</td>\n    </tr>\n    <tr>\n      <th>1</th>\n      <td>Air India</td>\n      <td>Kolkata</td>\n      <td>Banglore</td>\n      <td>CCU → IXR → BBI → BLR</td>\n      <td>2 stops</td>\n      <td>No info</td>\n      <td>7662</td>\n      <td>1</td>\n      <td>5</td>\n      <td>5</td>\n      <td>50</td>\n      <td>13</td>\n      <td>15</td>\n      <td>7</td>\n      <td>25</td>\n    </tr>\n    <tr>\n      <th>2</th>\n      <td>Jet Airways</td>\n      <td>Delhi</td>\n      <td>Cochin</td>\n      <td>DEL → LKO → BOM → COK</td>\n      <td>2 stops</td>\n      <td>No info</td>\n      <td>13882</td>\n      <td>9</td>\n      <td>6</td>\n      <td>9</td>\n      <td>25</td>\n      <td>4</td>\n      <td>25</td>\n      <td>19</td>\n      <td>0</td>\n    </tr>\n    <tr>\n      <th>3</th>\n      <td>IndiGo</td>\n      <td>Kolkata</td>\n      <td>Banglore</td>\n      <td>CCU → NAG → BLR</td>\n      <td>1 stop</td>\n      <td>No info</td>\n      <td>6218</td>\n      <td>12</td>\n      <td>5</td>\n      <td>18</td>\n      <td>5</td>\n      <td>23</td>\n      <td>30</td>\n      <td>5</td>\n      <td>25</td>\n    </tr>\n    <tr>\n      <th>4</th>\n      <td>IndiGo</td>\n      <td>Banglore</td>\n      <td>New Delhi</td>\n      <td>BLR → NAG → DEL</td>\n      <td>1 stop</td>\n      <td>No info</td>\n      <td>13302</td>\n      <td>1</td>\n      <td>3</td>\n      <td>16</td>\n      <td>50</td>\n      <td>21</td>\n      <td>35</td>\n      <td>4</td>\n      <td>45</td>\n    </tr>\n    <tr>\n      <th>...</th>\n      <td>...</td>\n      <td>...</td>\n      <td>...</td>\n      <td>...</td>\n      <td>...</td>\n      <td>...</td>\n      <td>...</td>\n      <td>...</td>\n      <td>...</td>\n      <td>...</td>\n      <td>...</td>\n      <td>...</td>\n      <td>...</td>\n      <td>...</td>\n      <td>...</td>\n    </tr>\n    <tr>\n      <th>13349</th>\n      <td>Air India</td>\n      <td>Kolkata</td>\n      <td>Banglore</td>\n      <td>CCU → DEL → BLR</td>\n      <td>1 stop</td>\n      <td>No info</td>\n      <td>14046</td>\n      <td>6</td>\n      <td>6</td>\n      <td>20</td>\n      <td>30</td>\n      <td>20</td>\n      <td>25</td>\n      <td>23</td>\n      <td>55</td>\n    </tr>\n    <tr>\n      <th>13350</th>\n      <td>IndiGo</td>\n      <td>Kolkata</td>\n      <td>Banglore</td>\n      <td>CCU → BLR</td>\n      <td>non-stop</td>\n      <td>No info</td>\n      <td>14086</td>\n      <td>27</td>\n      <td>3</td>\n      <td>14</td>\n      <td>20</td>\n      <td>16</td>\n      <td>55</td>\n      <td>2</td>\n      <td>35</td>\n    </tr>\n    <tr>\n      <th>13351</th>\n      <td>Jet Airways</td>\n      <td>Delhi</td>\n      <td>Cochin</td>\n      <td>DEL → BOM → COK</td>\n      <td>1 stop</td>\n      <td>No info</td>\n      <td>22720</td>\n      <td>6</td>\n      <td>3</td>\n      <td>21</td>\n      <td>50</td>\n      <td>4</td>\n      <td>25</td>\n      <td>6</td>\n      <td>35</td>\n    </tr>\n    <tr>\n      <th>13352</th>\n      <td>Air India</td>\n      <td>Delhi</td>\n      <td>Cochin</td>\n      <td>DEL → BOM → COK</td>\n      <td>1 stop</td>\n      <td>No info</td>\n      <td>23544</td>\n      <td>6</td>\n      <td>3</td>\n      <td>4</td>\n      <td>0</td>\n      <td>19</td>\n      <td>15</td>\n      <td>15</td>\n      <td>15</td>\n    </tr>\n    <tr>\n      <th>13353</th>\n      <td>Multiple carriers</td>\n      <td>Delhi</td>\n      <td>Cochin</td>\n      <td>DEL → BOM → COK</td>\n      <td>1 stop</td>\n      <td>No info</td>\n      <td>27489</td>\n      <td>15</td>\n      <td>6</td>\n      <td>4</td>\n      <td>55</td>\n      <td>19</td>\n      <td>15</td>\n      <td>14</td>\n      <td>20</td>\n    </tr>\n  </tbody>\n</table>\n<p>13353 rows × 15 columns</p>\n</div>"
     },
     "metadata": {},
     "execution_count": 121
    }
   ],
   "source": [
    "dataset"
   ]
  },
  {
   "cell_type": "code",
   "execution_count": 122,
   "metadata": {},
   "outputs": [],
   "source": [
    "dataset = pd.concat([dataset, pd.get_dummies(dataset[['Airline', 'Source', 'Destination']],\n",
    "        drop_first = True\n",
    "    )], axis=1)"
   ]
  },
  {
   "cell_type": "code",
   "execution_count": 123,
   "metadata": {},
   "outputs": [],
   "source": [
    "dataset.drop(['Airline', 'Source', 'Destination'], 1, inplace=True)"
   ]
  },
  {
   "cell_type": "code",
   "execution_count": 124,
   "metadata": {},
   "outputs": [],
   "source": [
    "# drop route and total_steps\n",
    "dataset.drop(['Route', 'Additional_Info'], 1, inplace=True)"
   ]
  },
  {
   "cell_type": "code",
   "execution_count": 125,
   "metadata": {},
   "outputs": [
    {
     "output_type": "execute_result",
     "data": {
      "text/plain": "      Total_Stops  Price  Journey_day  Journey_month  Dep_hour  Dep_min  \\\n0        non-stop   3897           24              3        22       20   \n1         2 stops   7662            1              5         5       50   \n2         2 stops  13882            9              6         9       25   \n3          1 stop   6218           12              5        18        5   \n4          1 stop  13302            1              3        16       50   \n...           ...    ...          ...            ...       ...      ...   \n13349      1 stop  14046            6              6        20       30   \n13350    non-stop  14086           27              3        14       20   \n13351      1 stop  22720            6              3        21       50   \n13352      1 stop  23544            6              3         4        0   \n13353      1 stop  27489           15              6         4       55   \n\n       Arr_hour  Arr_min  Duration_hrs  Duration_mins  ...  \\\n0             1       10             2             50  ...   \n1            13       15             7             25  ...   \n2             4       25            19              0  ...   \n3            23       30             5             25  ...   \n4            21       35             4             45  ...   \n...         ...      ...           ...            ...  ...   \n13349        20       25            23             55  ...   \n13350        16       55             2             35  ...   \n13351         4       25             6             35  ...   \n13352        19       15            15             15  ...   \n13353        19       15            14             20  ...   \n\n       Airline_Vistara Premium economy  Source_Chennai  Source_Delhi  \\\n0                                    0               0             0   \n1                                    0               0             0   \n2                                    0               0             1   \n3                                    0               0             0   \n4                                    0               0             0   \n...                                ...             ...           ...   \n13349                                0               0             0   \n13350                                0               0             0   \n13351                                0               0             1   \n13352                                0               0             1   \n13353                                0               0             1   \n\n       Source_Kolkata  Source_Mumbai  Destination_Cochin  Destination_Delhi  \\\n0                   0              0                   0                  0   \n1                   1              0                   0                  0   \n2                   0              0                   1                  0   \n3                   1              0                   0                  0   \n4                   0              0                   0                  0   \n...               ...            ...                 ...                ...   \n13349               1              0                   0                  0   \n13350               1              0                   0                  0   \n13351               0              0                   1                  0   \n13352               0              0                   1                  0   \n13353               0              0                   1                  0   \n\n       Destination_Hyderabad  Destination_Kolkata  Destination_New Delhi  \n0                          0                    0                      1  \n1                          0                    0                      0  \n2                          0                    0                      0  \n3                          0                    0                      0  \n4                          0                    0                      1  \n...                      ...                  ...                    ...  \n13349                      0                    0                      0  \n13350                      0                    0                      0  \n13351                      0                    0                      0  \n13352                      0                    0                      0  \n13353                      0                    0                      0  \n\n[13353 rows x 30 columns]",
      "text/html": "<div>\n<style scoped>\n    .dataframe tbody tr th:only-of-type {\n        vertical-align: middle;\n    }\n\n    .dataframe tbody tr th {\n        vertical-align: top;\n    }\n\n    .dataframe thead th {\n        text-align: right;\n    }\n</style>\n<table border=\"1\" class=\"dataframe\">\n  <thead>\n    <tr style=\"text-align: right;\">\n      <th></th>\n      <th>Total_Stops</th>\n      <th>Price</th>\n      <th>Journey_day</th>\n      <th>Journey_month</th>\n      <th>Dep_hour</th>\n      <th>Dep_min</th>\n      <th>Arr_hour</th>\n      <th>Arr_min</th>\n      <th>Duration_hrs</th>\n      <th>Duration_mins</th>\n      <th>...</th>\n      <th>Airline_Vistara Premium economy</th>\n      <th>Source_Chennai</th>\n      <th>Source_Delhi</th>\n      <th>Source_Kolkata</th>\n      <th>Source_Mumbai</th>\n      <th>Destination_Cochin</th>\n      <th>Destination_Delhi</th>\n      <th>Destination_Hyderabad</th>\n      <th>Destination_Kolkata</th>\n      <th>Destination_New Delhi</th>\n    </tr>\n  </thead>\n  <tbody>\n    <tr>\n      <th>0</th>\n      <td>non-stop</td>\n      <td>3897</td>\n      <td>24</td>\n      <td>3</td>\n      <td>22</td>\n      <td>20</td>\n      <td>1</td>\n      <td>10</td>\n      <td>2</td>\n      <td>50</td>\n      <td>...</td>\n      <td>0</td>\n      <td>0</td>\n      <td>0</td>\n      <td>0</td>\n      <td>0</td>\n      <td>0</td>\n      <td>0</td>\n      <td>0</td>\n      <td>0</td>\n      <td>1</td>\n    </tr>\n    <tr>\n      <th>1</th>\n      <td>2 stops</td>\n      <td>7662</td>\n      <td>1</td>\n      <td>5</td>\n      <td>5</td>\n      <td>50</td>\n      <td>13</td>\n      <td>15</td>\n      <td>7</td>\n      <td>25</td>\n      <td>...</td>\n      <td>0</td>\n      <td>0</td>\n      <td>0</td>\n      <td>1</td>\n      <td>0</td>\n      <td>0</td>\n      <td>0</td>\n      <td>0</td>\n      <td>0</td>\n      <td>0</td>\n    </tr>\n    <tr>\n      <th>2</th>\n      <td>2 stops</td>\n      <td>13882</td>\n      <td>9</td>\n      <td>6</td>\n      <td>9</td>\n      <td>25</td>\n      <td>4</td>\n      <td>25</td>\n      <td>19</td>\n      <td>0</td>\n      <td>...</td>\n      <td>0</td>\n      <td>0</td>\n      <td>1</td>\n      <td>0</td>\n      <td>0</td>\n      <td>1</td>\n      <td>0</td>\n      <td>0</td>\n      <td>0</td>\n      <td>0</td>\n    </tr>\n    <tr>\n      <th>3</th>\n      <td>1 stop</td>\n      <td>6218</td>\n      <td>12</td>\n      <td>5</td>\n      <td>18</td>\n      <td>5</td>\n      <td>23</td>\n      <td>30</td>\n      <td>5</td>\n      <td>25</td>\n      <td>...</td>\n      <td>0</td>\n      <td>0</td>\n      <td>0</td>\n      <td>1</td>\n      <td>0</td>\n      <td>0</td>\n      <td>0</td>\n      <td>0</td>\n      <td>0</td>\n      <td>0</td>\n    </tr>\n    <tr>\n      <th>4</th>\n      <td>1 stop</td>\n      <td>13302</td>\n      <td>1</td>\n      <td>3</td>\n      <td>16</td>\n      <td>50</td>\n      <td>21</td>\n      <td>35</td>\n      <td>4</td>\n      <td>45</td>\n      <td>...</td>\n      <td>0</td>\n      <td>0</td>\n      <td>0</td>\n      <td>0</td>\n      <td>0</td>\n      <td>0</td>\n      <td>0</td>\n      <td>0</td>\n      <td>0</td>\n      <td>1</td>\n    </tr>\n    <tr>\n      <th>...</th>\n      <td>...</td>\n      <td>...</td>\n      <td>...</td>\n      <td>...</td>\n      <td>...</td>\n      <td>...</td>\n      <td>...</td>\n      <td>...</td>\n      <td>...</td>\n      <td>...</td>\n      <td>...</td>\n      <td>...</td>\n      <td>...</td>\n      <td>...</td>\n      <td>...</td>\n      <td>...</td>\n      <td>...</td>\n      <td>...</td>\n      <td>...</td>\n      <td>...</td>\n      <td>...</td>\n    </tr>\n    <tr>\n      <th>13349</th>\n      <td>1 stop</td>\n      <td>14046</td>\n      <td>6</td>\n      <td>6</td>\n      <td>20</td>\n      <td>30</td>\n      <td>20</td>\n      <td>25</td>\n      <td>23</td>\n      <td>55</td>\n      <td>...</td>\n      <td>0</td>\n      <td>0</td>\n      <td>0</td>\n      <td>1</td>\n      <td>0</td>\n      <td>0</td>\n      <td>0</td>\n      <td>0</td>\n      <td>0</td>\n      <td>0</td>\n    </tr>\n    <tr>\n      <th>13350</th>\n      <td>non-stop</td>\n      <td>14086</td>\n      <td>27</td>\n      <td>3</td>\n      <td>14</td>\n      <td>20</td>\n      <td>16</td>\n      <td>55</td>\n      <td>2</td>\n      <td>35</td>\n      <td>...</td>\n      <td>0</td>\n      <td>0</td>\n      <td>0</td>\n      <td>1</td>\n      <td>0</td>\n      <td>0</td>\n      <td>0</td>\n      <td>0</td>\n      <td>0</td>\n      <td>0</td>\n    </tr>\n    <tr>\n      <th>13351</th>\n      <td>1 stop</td>\n      <td>22720</td>\n      <td>6</td>\n      <td>3</td>\n      <td>21</td>\n      <td>50</td>\n      <td>4</td>\n      <td>25</td>\n      <td>6</td>\n      <td>35</td>\n      <td>...</td>\n      <td>0</td>\n      <td>0</td>\n      <td>1</td>\n      <td>0</td>\n      <td>0</td>\n      <td>1</td>\n      <td>0</td>\n      <td>0</td>\n      <td>0</td>\n      <td>0</td>\n    </tr>\n    <tr>\n      <th>13352</th>\n      <td>1 stop</td>\n      <td>23544</td>\n      <td>6</td>\n      <td>3</td>\n      <td>4</td>\n      <td>0</td>\n      <td>19</td>\n      <td>15</td>\n      <td>15</td>\n      <td>15</td>\n      <td>...</td>\n      <td>0</td>\n      <td>0</td>\n      <td>1</td>\n      <td>0</td>\n      <td>0</td>\n      <td>1</td>\n      <td>0</td>\n      <td>0</td>\n      <td>0</td>\n      <td>0</td>\n    </tr>\n    <tr>\n      <th>13353</th>\n      <td>1 stop</td>\n      <td>27489</td>\n      <td>15</td>\n      <td>6</td>\n      <td>4</td>\n      <td>55</td>\n      <td>19</td>\n      <td>15</td>\n      <td>14</td>\n      <td>20</td>\n      <td>...</td>\n      <td>0</td>\n      <td>0</td>\n      <td>1</td>\n      <td>0</td>\n      <td>0</td>\n      <td>1</td>\n      <td>0</td>\n      <td>0</td>\n      <td>0</td>\n      <td>0</td>\n    </tr>\n  </tbody>\n</table>\n<p>13353 rows × 30 columns</p>\n</div>"
     },
     "metadata": {},
     "execution_count": 125
    }
   ],
   "source": [
    "dataset"
   ]
  },
  {
   "cell_type": "code",
   "execution_count": 126,
   "metadata": {},
   "outputs": [
    {
     "output_type": "execute_result",
     "data": {
      "text/plain": "array([&#39;non-stop&#39;, &#39;2 stops&#39;, &#39;1 stop&#39;, &#39;3 stops&#39;, &#39;4 stops&#39;],\n      dtype=object)"
     },
     "metadata": {},
     "execution_count": 126
    }
   ],
   "source": [
    "dataset.Total_Stops.unique()"
   ]
  },
  {
   "cell_type": "code",
   "execution_count": 129,
   "metadata": {},
   "outputs": [],
   "source": [
    "stops_mapping = {\n",
    "    'non-stop': 0,\n",
    "    '1 stop': 1,\n",
    "    '2 stops': 2,\n",
    "    '3 stops': 3,\n",
    "    '4 stops': 4,\n",
    "}"
   ]
  },
  {
   "cell_type": "code",
   "execution_count": 134,
   "metadata": {},
   "outputs": [],
   "source": [
    "dataset['Stops'] = dataset.Total_Stops.map(stops_mapping)\n",
    "dataset.drop('Total_Stops', 1, inplace=True)"
   ]
  },
  {
   "cell_type": "code",
   "execution_count": 135,
   "metadata": {},
   "outputs": [
    {
     "output_type": "execute_result",
     "data": {
      "text/plain": "       Price  Journey_day  Journey_month  Dep_hour  Dep_min  Arr_hour  \\\n0       3897           24              3        22       20         1   \n1       7662            1              5         5       50        13   \n2      13882            9              6         9       25         4   \n3       6218           12              5        18        5        23   \n4      13302            1              3        16       50        21   \n...      ...          ...            ...       ...      ...       ...   \n13349  14046            6              6        20       30        20   \n13350  14086           27              3        14       20        16   \n13351  22720            6              3        21       50         4   \n13352  23544            6              3         4        0        19   \n13353  27489           15              6         4       55        19   \n\n       Arr_min  Duration_hrs  Duration_mins  Airline_Air India  ...  \\\n0           10             2             50                  0  ...   \n1           15             7             25                  1  ...   \n2           25            19              0                  0  ...   \n3           30             5             25                  0  ...   \n4           35             4             45                  0  ...   \n...        ...           ...            ...                ...  ...   \n13349       25            23             55                  1  ...   \n13350       55             2             35                  0  ...   \n13351       25             6             35                  0  ...   \n13352       15            15             15                  1  ...   \n13353       15            14             20                  0  ...   \n\n       Source_Chennai  Source_Delhi  Source_Kolkata  Source_Mumbai  \\\n0                   0             0               0              0   \n1                   0             0               1              0   \n2                   0             1               0              0   \n3                   0             0               1              0   \n4                   0             0               0              0   \n...               ...           ...             ...            ...   \n13349               0             0               1              0   \n13350               0             0               1              0   \n13351               0             1               0              0   \n13352               0             1               0              0   \n13353               0             1               0              0   \n\n       Destination_Cochin  Destination_Delhi  Destination_Hyderabad  \\\n0                       0                  0                      0   \n1                       0                  0                      0   \n2                       1                  0                      0   \n3                       0                  0                      0   \n4                       0                  0                      0   \n...                   ...                ...                    ...   \n13349                   0                  0                      0   \n13350                   0                  0                      0   \n13351                   1                  0                      0   \n13352                   1                  0                      0   \n13353                   1                  0                      0   \n\n       Destination_Kolkata  Destination_New Delhi  Stops  \n0                        0                      1      0  \n1                        0                      0      2  \n2                        0                      0      2  \n3                        0                      0      1  \n4                        0                      1      1  \n...                    ...                    ...    ...  \n13349                    0                      0      1  \n13350                    0                      0      0  \n13351                    0                      0      1  \n13352                    0                      0      1  \n13353                    0                      0      1  \n\n[13353 rows x 30 columns]",
      "text/html": "<div>\n<style scoped>\n    .dataframe tbody tr th:only-of-type {\n        vertical-align: middle;\n    }\n\n    .dataframe tbody tr th {\n        vertical-align: top;\n    }\n\n    .dataframe thead th {\n        text-align: right;\n    }\n</style>\n<table border=\"1\" class=\"dataframe\">\n  <thead>\n    <tr style=\"text-align: right;\">\n      <th></th>\n      <th>Price</th>\n      <th>Journey_day</th>\n      <th>Journey_month</th>\n      <th>Dep_hour</th>\n      <th>Dep_min</th>\n      <th>Arr_hour</th>\n      <th>Arr_min</th>\n      <th>Duration_hrs</th>\n      <th>Duration_mins</th>\n      <th>Airline_Air India</th>\n      <th>...</th>\n      <th>Source_Chennai</th>\n      <th>Source_Delhi</th>\n      <th>Source_Kolkata</th>\n      <th>Source_Mumbai</th>\n      <th>Destination_Cochin</th>\n      <th>Destination_Delhi</th>\n      <th>Destination_Hyderabad</th>\n      <th>Destination_Kolkata</th>\n      <th>Destination_New Delhi</th>\n      <th>Stops</th>\n    </tr>\n  </thead>\n  <tbody>\n    <tr>\n      <th>0</th>\n      <td>3897</td>\n      <td>24</td>\n      <td>3</td>\n      <td>22</td>\n      <td>20</td>\n      <td>1</td>\n      <td>10</td>\n      <td>2</td>\n      <td>50</td>\n      <td>0</td>\n      <td>...</td>\n      <td>0</td>\n      <td>0</td>\n      <td>0</td>\n      <td>0</td>\n      <td>0</td>\n      <td>0</td>\n      <td>0</td>\n      <td>0</td>\n      <td>1</td>\n      <td>0</td>\n    </tr>\n    <tr>\n      <th>1</th>\n      <td>7662</td>\n      <td>1</td>\n      <td>5</td>\n      <td>5</td>\n      <td>50</td>\n      <td>13</td>\n      <td>15</td>\n      <td>7</td>\n      <td>25</td>\n      <td>1</td>\n      <td>...</td>\n      <td>0</td>\n      <td>0</td>\n      <td>1</td>\n      <td>0</td>\n      <td>0</td>\n      <td>0</td>\n      <td>0</td>\n      <td>0</td>\n      <td>0</td>\n      <td>2</td>\n    </tr>\n    <tr>\n      <th>2</th>\n      <td>13882</td>\n      <td>9</td>\n      <td>6</td>\n      <td>9</td>\n      <td>25</td>\n      <td>4</td>\n      <td>25</td>\n      <td>19</td>\n      <td>0</td>\n      <td>0</td>\n      <td>...</td>\n      <td>0</td>\n      <td>1</td>\n      <td>0</td>\n      <td>0</td>\n      <td>1</td>\n      <td>0</td>\n      <td>0</td>\n      <td>0</td>\n      <td>0</td>\n      <td>2</td>\n    </tr>\n    <tr>\n      <th>3</th>\n      <td>6218</td>\n      <td>12</td>\n      <td>5</td>\n      <td>18</td>\n      <td>5</td>\n      <td>23</td>\n      <td>30</td>\n      <td>5</td>\n      <td>25</td>\n      <td>0</td>\n      <td>...</td>\n      <td>0</td>\n      <td>0</td>\n      <td>1</td>\n      <td>0</td>\n      <td>0</td>\n      <td>0</td>\n      <td>0</td>\n      <td>0</td>\n      <td>0</td>\n      <td>1</td>\n    </tr>\n    <tr>\n      <th>4</th>\n      <td>13302</td>\n      <td>1</td>\n      <td>3</td>\n      <td>16</td>\n      <td>50</td>\n      <td>21</td>\n      <td>35</td>\n      <td>4</td>\n      <td>45</td>\n      <td>0</td>\n      <td>...</td>\n      <td>0</td>\n      <td>0</td>\n      <td>0</td>\n      <td>0</td>\n      <td>0</td>\n      <td>0</td>\n      <td>0</td>\n      <td>0</td>\n      <td>1</td>\n      <td>1</td>\n    </tr>\n    <tr>\n      <th>...</th>\n      <td>...</td>\n      <td>...</td>\n      <td>...</td>\n      <td>...</td>\n      <td>...</td>\n      <td>...</td>\n      <td>...</td>\n      <td>...</td>\n      <td>...</td>\n      <td>...</td>\n      <td>...</td>\n      <td>...</td>\n      <td>...</td>\n      <td>...</td>\n      <td>...</td>\n      <td>...</td>\n      <td>...</td>\n      <td>...</td>\n      <td>...</td>\n      <td>...</td>\n      <td>...</td>\n    </tr>\n    <tr>\n      <th>13349</th>\n      <td>14046</td>\n      <td>6</td>\n      <td>6</td>\n      <td>20</td>\n      <td>30</td>\n      <td>20</td>\n      <td>25</td>\n      <td>23</td>\n      <td>55</td>\n      <td>1</td>\n      <td>...</td>\n      <td>0</td>\n      <td>0</td>\n      <td>1</td>\n      <td>0</td>\n      <td>0</td>\n      <td>0</td>\n      <td>0</td>\n      <td>0</td>\n      <td>0</td>\n      <td>1</td>\n    </tr>\n    <tr>\n      <th>13350</th>\n      <td>14086</td>\n      <td>27</td>\n      <td>3</td>\n      <td>14</td>\n      <td>20</td>\n      <td>16</td>\n      <td>55</td>\n      <td>2</td>\n      <td>35</td>\n      <td>0</td>\n      <td>...</td>\n      <td>0</td>\n      <td>0</td>\n      <td>1</td>\n      <td>0</td>\n      <td>0</td>\n      <td>0</td>\n      <td>0</td>\n      <td>0</td>\n      <td>0</td>\n      <td>0</td>\n    </tr>\n    <tr>\n      <th>13351</th>\n      <td>22720</td>\n      <td>6</td>\n      <td>3</td>\n      <td>21</td>\n      <td>50</td>\n      <td>4</td>\n      <td>25</td>\n      <td>6</td>\n      <td>35</td>\n      <td>0</td>\n      <td>...</td>\n      <td>0</td>\n      <td>1</td>\n      <td>0</td>\n      <td>0</td>\n      <td>1</td>\n      <td>0</td>\n      <td>0</td>\n      <td>0</td>\n      <td>0</td>\n      <td>1</td>\n    </tr>\n    <tr>\n      <th>13352</th>\n      <td>23544</td>\n      <td>6</td>\n      <td>3</td>\n      <td>4</td>\n      <td>0</td>\n      <td>19</td>\n      <td>15</td>\n      <td>15</td>\n      <td>15</td>\n      <td>1</td>\n      <td>...</td>\n      <td>0</td>\n      <td>1</td>\n      <td>0</td>\n      <td>0</td>\n      <td>1</td>\n      <td>0</td>\n      <td>0</td>\n      <td>0</td>\n      <td>0</td>\n      <td>1</td>\n    </tr>\n    <tr>\n      <th>13353</th>\n      <td>27489</td>\n      <td>15</td>\n      <td>6</td>\n      <td>4</td>\n      <td>55</td>\n      <td>19</td>\n      <td>15</td>\n      <td>14</td>\n      <td>20</td>\n      <td>0</td>\n      <td>...</td>\n      <td>0</td>\n      <td>1</td>\n      <td>0</td>\n      <td>0</td>\n      <td>1</td>\n      <td>0</td>\n      <td>0</td>\n      <td>0</td>\n      <td>0</td>\n      <td>1</td>\n    </tr>\n  </tbody>\n</table>\n<p>13353 rows × 30 columns</p>\n</div>"
     },
     "metadata": {},
     "execution_count": 135
    }
   ],
   "source": []
  },
  {
   "cell_type": "code",
   "execution_count": null,
   "metadata": {},
   "outputs": [],
   "source": []
  }
 ]
}